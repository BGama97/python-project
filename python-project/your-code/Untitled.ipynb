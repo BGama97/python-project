{
 "cells": [
  {
   "cell_type": "code",
   "execution_count": null,
   "id": "cabc867d",
   "metadata": {},
   "outputs": [],
   "source": [
    "num = input(\"enter a number\")\n",
    "num = int(num)\n",
    "\n",
    "if num%2 == 0:\n",
    "    print(\"number is even\")\n",
    "else: \n",
    "    print(\"number is odd\")"
   ]
  },
  {
   "cell_type": "code",
   "execution_count": null,
   "id": "436e7430",
   "metadata": {},
   "outputs": [],
   "source": []
  }
 ],
 "metadata": {
  "kernelspec": {
   "display_name": "Python 3 (ipykernel)",
   "language": "python",
   "name": "python3"
  },
  "language_info": {
   "codemirror_mode": {
    "name": "ipython",
    "version": 3
   },
   "file_extension": ".py",
   "mimetype": "text/x-python",
   "name": "python",
   "nbconvert_exporter": "python",
   "pygments_lexer": "ipython3",
   "version": "3.9.7"
  }
 },
 "nbformat": 4,
 "nbformat_minor": 5
}
